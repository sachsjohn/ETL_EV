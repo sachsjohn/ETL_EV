{
 "cells": [
  {
   "cell_type": "code",
   "execution_count": 63,
   "metadata": {},
   "outputs": [],
   "source": [
    "# Dependencies\n",
    "import pandas as pd\n",
    "from sqlalchemy import create_engine"
   ]
  },
  {
   "cell_type": "code",
   "execution_count": 64,
   "metadata": {},
   "outputs": [],
   "source": [
    "# Define the excel file routes\n",
    "pev_xl = \"Resources/10567_pev_sales.xlsx\"\n",
    "hev_xl = \"Resources/10301_hev_sale.xlsx\""
   ]
  },
  {
   "cell_type": "code",
   "execution_count": 65,
   "metadata": {},
   "outputs": [],
   "source": [
    "# Define the HEV Table. Exclude the static in the excel file.\n",
    "hev = pd.read_excel(hev_xl, header = 2, usecols=\"B:BP\", skipfooter=19)"
   ]
  },
  {
   "cell_type": "code",
   "execution_count": 66,
   "metadata": {},
   "outputs": [],
   "source": [
    "# Melt the HEV table. Our only id var, due to the set up, is Year.\n",
    "hdf = hev.melt(id_vars=['Year'], var_name = 'Vehicle', value_name = 'Sales')"
   ]
  },
  {
   "cell_type": "code",
   "execution_count": 67,
   "metadata": {},
   "outputs": [],
   "source": [
    "# Define the PEV table.  Exclude the static, including the totals.\n",
    "pev = pd.read_excel(pev_xl, header=2, usecols=\"B:J\", skipfooter=11)"
   ]
  },
  {
   "cell_type": "code",
   "execution_count": 68,
   "metadata": {},
   "outputs": [],
   "source": [
    "# Melt the PEV df, retaining type as another id_var\n",
    "pdf = pev.melt(id_vars=['Vehicle','Type'], var_name='Year', value_name = 'Sales')"
   ]
  },
  {
   "cell_type": "code",
   "execution_count": 69,
   "metadata": {},
   "outputs": [],
   "source": [
    "# To get both dataframes into a similar format, we now have to add a 'Type' column to the HEV df\n",
    "hdf['Type'] = 'HEV'"
   ]
  },
  {
   "cell_type": "code",
   "execution_count": 70,
   "metadata": {},
   "outputs": [
    {
     "data": {
      "text/html": [
       "<div>\n",
       "<style scoped>\n",
       "    .dataframe tbody tr th:only-of-type {\n",
       "        vertical-align: middle;\n",
       "    }\n",
       "\n",
       "    .dataframe tbody tr th {\n",
       "        vertical-align: top;\n",
       "    }\n",
       "\n",
       "    .dataframe thead th {\n",
       "        text-align: right;\n",
       "    }\n",
       "</style>\n",
       "<table border=\"1\" class=\"dataframe\">\n",
       "  <thead>\n",
       "    <tr style=\"text-align: right;\">\n",
       "      <th></th>\n",
       "      <th>Vehicle</th>\n",
       "      <th>Type</th>\n",
       "      <th>Year</th>\n",
       "      <th>Sales</th>\n",
       "    </tr>\n",
       "  </thead>\n",
       "  <tbody>\n",
       "    <tr>\n",
       "      <th>0</th>\n",
       "      <td>Audi A3 Plug In</td>\n",
       "      <td>PHEV</td>\n",
       "      <td>2011</td>\n",
       "      <td>NaN</td>\n",
       "    </tr>\n",
       "    <tr>\n",
       "      <th>1</th>\n",
       "      <td>BMW Active E</td>\n",
       "      <td>EV</td>\n",
       "      <td>2011</td>\n",
       "      <td>NaN</td>\n",
       "    </tr>\n",
       "    <tr>\n",
       "      <th>2</th>\n",
       "      <td>BMW i3</td>\n",
       "      <td>EV</td>\n",
       "      <td>2011</td>\n",
       "      <td>NaN</td>\n",
       "    </tr>\n",
       "    <tr>\n",
       "      <th>3</th>\n",
       "      <td>BMW i8</td>\n",
       "      <td>PHEV</td>\n",
       "      <td>2011</td>\n",
       "      <td>NaN</td>\n",
       "    </tr>\n",
       "    <tr>\n",
       "      <th>4</th>\n",
       "      <td>BMW X5</td>\n",
       "      <td>PHEV</td>\n",
       "      <td>2011</td>\n",
       "      <td>NaN</td>\n",
       "    </tr>\n",
       "  </tbody>\n",
       "</table>\n",
       "</div>"
      ],
      "text/plain": [
       "           Vehicle  Type  Year  Sales\n",
       "0  Audi A3 Plug In  PHEV  2011    NaN\n",
       "1     BMW Active E    EV  2011    NaN\n",
       "2           BMW i3    EV  2011    NaN\n",
       "3           BMW i8  PHEV  2011    NaN\n",
       "4           BMW X5  PHEV  2011    NaN"
      ]
     },
     "execution_count": 70,
     "metadata": {},
     "output_type": "execute_result"
    }
   ],
   "source": [
    "pdf.head()"
   ]
  },
  {
   "cell_type": "code",
   "execution_count": 71,
   "metadata": {},
   "outputs": [
    {
     "data": {
      "text/html": [
       "<div>\n",
       "<style scoped>\n",
       "    .dataframe tbody tr th:only-of-type {\n",
       "        vertical-align: middle;\n",
       "    }\n",
       "\n",
       "    .dataframe tbody tr th {\n",
       "        vertical-align: top;\n",
       "    }\n",
       "\n",
       "    .dataframe thead th {\n",
       "        text-align: right;\n",
       "    }\n",
       "</style>\n",
       "<table border=\"1\" class=\"dataframe\">\n",
       "  <thead>\n",
       "    <tr style=\"text-align: right;\">\n",
       "      <th></th>\n",
       "      <th>Year</th>\n",
       "      <th>Vehicle</th>\n",
       "      <th>Sales</th>\n",
       "      <th>Type</th>\n",
       "    </tr>\n",
       "  </thead>\n",
       "  <tbody>\n",
       "    <tr>\n",
       "      <th>0</th>\n",
       "      <td>1999</td>\n",
       "      <td>Volkswagen Touareg Hybrid</td>\n",
       "      <td>NaN</td>\n",
       "      <td>HEV</td>\n",
       "    </tr>\n",
       "    <tr>\n",
       "      <th>1</th>\n",
       "      <td>2000</td>\n",
       "      <td>Volkswagen Touareg Hybrid</td>\n",
       "      <td>NaN</td>\n",
       "      <td>HEV</td>\n",
       "    </tr>\n",
       "    <tr>\n",
       "      <th>2</th>\n",
       "      <td>2001</td>\n",
       "      <td>Volkswagen Touareg Hybrid</td>\n",
       "      <td>NaN</td>\n",
       "      <td>HEV</td>\n",
       "    </tr>\n",
       "    <tr>\n",
       "      <th>3</th>\n",
       "      <td>2002</td>\n",
       "      <td>Volkswagen Touareg Hybrid</td>\n",
       "      <td>NaN</td>\n",
       "      <td>HEV</td>\n",
       "    </tr>\n",
       "    <tr>\n",
       "      <th>4</th>\n",
       "      <td>2003</td>\n",
       "      <td>Volkswagen Touareg Hybrid</td>\n",
       "      <td>NaN</td>\n",
       "      <td>HEV</td>\n",
       "    </tr>\n",
       "  </tbody>\n",
       "</table>\n",
       "</div>"
      ],
      "text/plain": [
       "   Year                    Vehicle  Sales Type\n",
       "0  1999  Volkswagen Touareg Hybrid    NaN  HEV\n",
       "1  2000  Volkswagen Touareg Hybrid    NaN  HEV\n",
       "2  2001  Volkswagen Touareg Hybrid    NaN  HEV\n",
       "3  2002  Volkswagen Touareg Hybrid    NaN  HEV\n",
       "4  2003  Volkswagen Touareg Hybrid    NaN  HEV"
      ]
     },
     "execution_count": 71,
     "metadata": {},
     "output_type": "execute_result"
    }
   ],
   "source": [
    "hdf.head()"
   ]
  },
  {
   "cell_type": "code",
   "execution_count": 72,
   "metadata": {},
   "outputs": [],
   "source": [
    "# Dropping all rows for which 'Sales' is null. All other columns have values,\n",
    "# so we are only dropping where 'Sales' is null.\n",
    "hdf = hdf.dropna()\n",
    "pdf = pdf.dropna()"
   ]
  },
  {
   "cell_type": "code",
   "execution_count": 73,
   "metadata": {},
   "outputs": [],
   "source": [
    "# Reorder the HEV df to have the same column order as the PEV df\n",
    "hdf = hdf[['Vehicle','Type','Year','Sales']]"
   ]
  },
  {
   "cell_type": "code",
   "execution_count": 74,
   "metadata": {},
   "outputs": [],
   "source": [
    "# Split the 'Vehicle' column. We will create a new dataframe, which will then be fed back into the original dataframe. \n",
    "# While there may be a way to do it without creating a new dataframe, this works.\n",
    "makemod = hdf.Vehicle.str.split(' ',1, expand=True)"
   ]
  },
  {
   "cell_type": "code",
   "execution_count": 75,
   "metadata": {
    "scrolled": false
   },
   "outputs": [
    {
     "data": {
      "text/html": [
       "<div>\n",
       "<style scoped>\n",
       "    .dataframe tbody tr th:only-of-type {\n",
       "        vertical-align: middle;\n",
       "    }\n",
       "\n",
       "    .dataframe tbody tr th {\n",
       "        vertical-align: top;\n",
       "    }\n",
       "\n",
       "    .dataframe thead th {\n",
       "        text-align: right;\n",
       "    }\n",
       "</style>\n",
       "<table border=\"1\" class=\"dataframe\">\n",
       "  <thead>\n",
       "    <tr style=\"text-align: right;\">\n",
       "      <th></th>\n",
       "      <th>0</th>\n",
       "      <th>1</th>\n",
       "    </tr>\n",
       "  </thead>\n",
       "  <tbody>\n",
       "    <tr>\n",
       "      <th>12</th>\n",
       "      <td>Volkswagen</td>\n",
       "      <td>Touareg Hybrid</td>\n",
       "    </tr>\n",
       "    <tr>\n",
       "      <th>13</th>\n",
       "      <td>Volkswagen</td>\n",
       "      <td>Touareg Hybrid</td>\n",
       "    </tr>\n",
       "    <tr>\n",
       "      <th>14</th>\n",
       "      <td>Volkswagen</td>\n",
       "      <td>Touareg Hybrid</td>\n",
       "    </tr>\n",
       "    <tr>\n",
       "      <th>15</th>\n",
       "      <td>Volkswagen</td>\n",
       "      <td>Touareg Hybrid</td>\n",
       "    </tr>\n",
       "    <tr>\n",
       "      <th>16</th>\n",
       "      <td>Volkswagen</td>\n",
       "      <td>Touareg Hybrid</td>\n",
       "    </tr>\n",
       "  </tbody>\n",
       "</table>\n",
       "</div>"
      ],
      "text/plain": [
       "             0               1\n",
       "12  Volkswagen  Touareg Hybrid\n",
       "13  Volkswagen  Touareg Hybrid\n",
       "14  Volkswagen  Touareg Hybrid\n",
       "15  Volkswagen  Touareg Hybrid\n",
       "16  Volkswagen  Touareg Hybrid"
      ]
     },
     "execution_count": 75,
     "metadata": {},
     "output_type": "execute_result"
    }
   ],
   "source": [
    "makemod.head()"
   ]
  },
  {
   "cell_type": "code",
   "execution_count": 76,
   "metadata": {},
   "outputs": [
    {
     "data": {
      "text/html": [
       "<div>\n",
       "<style scoped>\n",
       "    .dataframe tbody tr th:only-of-type {\n",
       "        vertical-align: middle;\n",
       "    }\n",
       "\n",
       "    .dataframe tbody tr th {\n",
       "        vertical-align: top;\n",
       "    }\n",
       "\n",
       "    .dataframe thead th {\n",
       "        text-align: right;\n",
       "    }\n",
       "</style>\n",
       "<table border=\"1\" class=\"dataframe\">\n",
       "  <thead>\n",
       "    <tr style=\"text-align: right;\">\n",
       "      <th></th>\n",
       "      <th>Vehicle</th>\n",
       "      <th>Type</th>\n",
       "      <th>Year</th>\n",
       "      <th>Sales</th>\n",
       "      <th>Make</th>\n",
       "      <th>Model</th>\n",
       "    </tr>\n",
       "  </thead>\n",
       "  <tbody>\n",
       "    <tr>\n",
       "      <th>12</th>\n",
       "      <td>Volkswagen Touareg Hybrid</td>\n",
       "      <td>HEV</td>\n",
       "      <td>2011</td>\n",
       "      <td>221.0</td>\n",
       "      <td>Volkswagen</td>\n",
       "      <td>Touareg Hybrid</td>\n",
       "    </tr>\n",
       "    <tr>\n",
       "      <th>13</th>\n",
       "      <td>Volkswagen Touareg Hybrid</td>\n",
       "      <td>HEV</td>\n",
       "      <td>2012</td>\n",
       "      <td>250.0</td>\n",
       "      <td>Volkswagen</td>\n",
       "      <td>Touareg Hybrid</td>\n",
       "    </tr>\n",
       "    <tr>\n",
       "      <th>14</th>\n",
       "      <td>Volkswagen Touareg Hybrid</td>\n",
       "      <td>HEV</td>\n",
       "      <td>2013</td>\n",
       "      <td>118.0</td>\n",
       "      <td>Volkswagen</td>\n",
       "      <td>Touareg Hybrid</td>\n",
       "    </tr>\n",
       "    <tr>\n",
       "      <th>15</th>\n",
       "      <td>Volkswagen Touareg Hybrid</td>\n",
       "      <td>HEV</td>\n",
       "      <td>2014</td>\n",
       "      <td>30.0</td>\n",
       "      <td>Volkswagen</td>\n",
       "      <td>Touareg Hybrid</td>\n",
       "    </tr>\n",
       "    <tr>\n",
       "      <th>16</th>\n",
       "      <td>Volkswagen Touareg Hybrid</td>\n",
       "      <td>HEV</td>\n",
       "      <td>2015</td>\n",
       "      <td>16.0</td>\n",
       "      <td>Volkswagen</td>\n",
       "      <td>Touareg Hybrid</td>\n",
       "    </tr>\n",
       "  </tbody>\n",
       "</table>\n",
       "</div>"
      ],
      "text/plain": [
       "                      Vehicle Type  Year  Sales        Make           Model\n",
       "12  Volkswagen Touareg Hybrid  HEV  2011  221.0  Volkswagen  Touareg Hybrid\n",
       "13  Volkswagen Touareg Hybrid  HEV  2012  250.0  Volkswagen  Touareg Hybrid\n",
       "14  Volkswagen Touareg Hybrid  HEV  2013  118.0  Volkswagen  Touareg Hybrid\n",
       "15  Volkswagen Touareg Hybrid  HEV  2014   30.0  Volkswagen  Touareg Hybrid\n",
       "16  Volkswagen Touareg Hybrid  HEV  2015   16.0  Volkswagen  Touareg Hybrid"
      ]
     },
     "execution_count": 76,
     "metadata": {},
     "output_type": "execute_result"
    }
   ],
   "source": [
    "hdf['Make'] = makemod[0]\n",
    "hdf['Model'] = makemod[1]\n",
    "hdf.head()"
   ]
  },
  {
   "cell_type": "code",
   "execution_count": 77,
   "metadata": {},
   "outputs": [],
   "source": [
    "# Again, we apply the same split to the PEV dataframe.\n",
    "makemod = pdf.Vehicle.str.split(' ',1, expand=True)"
   ]
  },
  {
   "cell_type": "code",
   "execution_count": 78,
   "metadata": {},
   "outputs": [
    {
     "data": {
      "text/html": [
       "<div>\n",
       "<style scoped>\n",
       "    .dataframe tbody tr th:only-of-type {\n",
       "        vertical-align: middle;\n",
       "    }\n",
       "\n",
       "    .dataframe tbody tr th {\n",
       "        vertical-align: top;\n",
       "    }\n",
       "\n",
       "    .dataframe thead th {\n",
       "        text-align: right;\n",
       "    }\n",
       "</style>\n",
       "<table border=\"1\" class=\"dataframe\">\n",
       "  <thead>\n",
       "    <tr style=\"text-align: right;\">\n",
       "      <th></th>\n",
       "      <th>Vehicle</th>\n",
       "      <th>Type</th>\n",
       "      <th>Year</th>\n",
       "      <th>Sales</th>\n",
       "      <th>Make</th>\n",
       "      <th>Model</th>\n",
       "    </tr>\n",
       "  </thead>\n",
       "  <tbody>\n",
       "    <tr>\n",
       "      <th>12</th>\n",
       "      <td>Chevrolet Volt</td>\n",
       "      <td>PHEV</td>\n",
       "      <td>2011</td>\n",
       "      <td>7671.0</td>\n",
       "      <td>Chevrolet</td>\n",
       "      <td>Volt</td>\n",
       "    </tr>\n",
       "    <tr>\n",
       "      <th>31</th>\n",
       "      <td>Mitsubishi i-MiEV</td>\n",
       "      <td>EV</td>\n",
       "      <td>2011</td>\n",
       "      <td>76.0</td>\n",
       "      <td>Mitsubishi</td>\n",
       "      <td>i-MiEV</td>\n",
       "    </tr>\n",
       "    <tr>\n",
       "      <th>32</th>\n",
       "      <td>Nissan LEAF</td>\n",
       "      <td>EV</td>\n",
       "      <td>2011</td>\n",
       "      <td>9674.0</td>\n",
       "      <td>Nissan</td>\n",
       "      <td>LEAF</td>\n",
       "    </tr>\n",
       "    <tr>\n",
       "      <th>35</th>\n",
       "      <td>Smart ED</td>\n",
       "      <td>EV</td>\n",
       "      <td>2011</td>\n",
       "      <td>310.0</td>\n",
       "      <td>Smart</td>\n",
       "      <td>ED</td>\n",
       "    </tr>\n",
       "    <tr>\n",
       "      <th>47</th>\n",
       "      <td>BMW Active E</td>\n",
       "      <td>EV</td>\n",
       "      <td>2012</td>\n",
       "      <td>965.0</td>\n",
       "      <td>BMW</td>\n",
       "      <td>Active E</td>\n",
       "    </tr>\n",
       "  </tbody>\n",
       "</table>\n",
       "</div>"
      ],
      "text/plain": [
       "              Vehicle  Type  Year   Sales        Make     Model\n",
       "12     Chevrolet Volt  PHEV  2011  7671.0   Chevrolet      Volt\n",
       "31  Mitsubishi i-MiEV    EV  2011    76.0  Mitsubishi    i-MiEV\n",
       "32        Nissan LEAF    EV  2011  9674.0      Nissan      LEAF\n",
       "35           Smart ED    EV  2011   310.0       Smart        ED\n",
       "47       BMW Active E    EV  2012   965.0         BMW  Active E"
      ]
     },
     "execution_count": 78,
     "metadata": {},
     "output_type": "execute_result"
    }
   ],
   "source": [
    "pdf['Make'] = makemod[0]\n",
    "pdf['Model'] = makemod[1]\n",
    "pdf.head()"
   ]
  },
  {
   "cell_type": "code",
   "execution_count": 79,
   "metadata": {},
   "outputs": [],
   "source": [
    "# Now we drop the original vehicle column from both dataframes and reorder the columns to the desired order\n",
    "pdf.drop(columns = ['Vehicle'], inplace = True)\n",
    "hdf.drop(columns = ['Vehicle'], inplace = True)"
   ]
  },
  {
   "cell_type": "code",
   "execution_count": 80,
   "metadata": {},
   "outputs": [],
   "source": [
    "pdf = pdf[['Make', 'Model','Type','Year','Sales']]\n",
    "hdf = hdf[['Make', 'Model','Type','Year','Sales']]"
   ]
  },
  {
   "cell_type": "code",
   "execution_count": 81,
   "metadata": {
    "scrolled": true
   },
   "outputs": [
    {
     "data": {
      "text/html": [
       "<div>\n",
       "<style scoped>\n",
       "    .dataframe tbody tr th:only-of-type {\n",
       "        vertical-align: middle;\n",
       "    }\n",
       "\n",
       "    .dataframe tbody tr th {\n",
       "        vertical-align: top;\n",
       "    }\n",
       "\n",
       "    .dataframe thead th {\n",
       "        text-align: right;\n",
       "    }\n",
       "</style>\n",
       "<table border=\"1\" class=\"dataframe\">\n",
       "  <thead>\n",
       "    <tr style=\"text-align: right;\">\n",
       "      <th></th>\n",
       "      <th>Make</th>\n",
       "      <th>Model</th>\n",
       "      <th>Type</th>\n",
       "      <th>Year</th>\n",
       "      <th>Sales</th>\n",
       "    </tr>\n",
       "  </thead>\n",
       "  <tbody>\n",
       "    <tr>\n",
       "      <th>12</th>\n",
       "      <td>Chevrolet</td>\n",
       "      <td>Volt</td>\n",
       "      <td>PHEV</td>\n",
       "      <td>2011</td>\n",
       "      <td>7671.0</td>\n",
       "    </tr>\n",
       "    <tr>\n",
       "      <th>31</th>\n",
       "      <td>Mitsubishi</td>\n",
       "      <td>i-MiEV</td>\n",
       "      <td>EV</td>\n",
       "      <td>2011</td>\n",
       "      <td>76.0</td>\n",
       "    </tr>\n",
       "    <tr>\n",
       "      <th>32</th>\n",
       "      <td>Nissan</td>\n",
       "      <td>LEAF</td>\n",
       "      <td>EV</td>\n",
       "      <td>2011</td>\n",
       "      <td>9674.0</td>\n",
       "    </tr>\n",
       "    <tr>\n",
       "      <th>35</th>\n",
       "      <td>Smart</td>\n",
       "      <td>ED</td>\n",
       "      <td>EV</td>\n",
       "      <td>2011</td>\n",
       "      <td>310.0</td>\n",
       "    </tr>\n",
       "    <tr>\n",
       "      <th>47</th>\n",
       "      <td>BMW</td>\n",
       "      <td>Active E</td>\n",
       "      <td>EV</td>\n",
       "      <td>2012</td>\n",
       "      <td>965.0</td>\n",
       "    </tr>\n",
       "  </tbody>\n",
       "</table>\n",
       "</div>"
      ],
      "text/plain": [
       "          Make     Model  Type  Year   Sales\n",
       "12   Chevrolet      Volt  PHEV  2011  7671.0\n",
       "31  Mitsubishi    i-MiEV    EV  2011    76.0\n",
       "32      Nissan      LEAF    EV  2011  9674.0\n",
       "35       Smart        ED    EV  2011   310.0\n",
       "47         BMW  Active E    EV  2012   965.0"
      ]
     },
     "execution_count": 81,
     "metadata": {},
     "output_type": "execute_result"
    }
   ],
   "source": [
    "pdf.head()"
   ]
  },
  {
   "cell_type": "code",
   "execution_count": 82,
   "metadata": {},
   "outputs": [
    {
     "data": {
      "text/html": [
       "<div>\n",
       "<style scoped>\n",
       "    .dataframe tbody tr th:only-of-type {\n",
       "        vertical-align: middle;\n",
       "    }\n",
       "\n",
       "    .dataframe tbody tr th {\n",
       "        vertical-align: top;\n",
       "    }\n",
       "\n",
       "    .dataframe thead th {\n",
       "        text-align: right;\n",
       "    }\n",
       "</style>\n",
       "<table border=\"1\" class=\"dataframe\">\n",
       "  <thead>\n",
       "    <tr style=\"text-align: right;\">\n",
       "      <th></th>\n",
       "      <th>Make</th>\n",
       "      <th>Model</th>\n",
       "      <th>Type</th>\n",
       "      <th>Year</th>\n",
       "      <th>Sales</th>\n",
       "    </tr>\n",
       "  </thead>\n",
       "  <tbody>\n",
       "    <tr>\n",
       "      <th>12</th>\n",
       "      <td>Volkswagen</td>\n",
       "      <td>Touareg Hybrid</td>\n",
       "      <td>HEV</td>\n",
       "      <td>2011</td>\n",
       "      <td>221.0</td>\n",
       "    </tr>\n",
       "    <tr>\n",
       "      <th>13</th>\n",
       "      <td>Volkswagen</td>\n",
       "      <td>Touareg Hybrid</td>\n",
       "      <td>HEV</td>\n",
       "      <td>2012</td>\n",
       "      <td>250.0</td>\n",
       "    </tr>\n",
       "    <tr>\n",
       "      <th>14</th>\n",
       "      <td>Volkswagen</td>\n",
       "      <td>Touareg Hybrid</td>\n",
       "      <td>HEV</td>\n",
       "      <td>2013</td>\n",
       "      <td>118.0</td>\n",
       "    </tr>\n",
       "    <tr>\n",
       "      <th>15</th>\n",
       "      <td>Volkswagen</td>\n",
       "      <td>Touareg Hybrid</td>\n",
       "      <td>HEV</td>\n",
       "      <td>2014</td>\n",
       "      <td>30.0</td>\n",
       "    </tr>\n",
       "    <tr>\n",
       "      <th>16</th>\n",
       "      <td>Volkswagen</td>\n",
       "      <td>Touareg Hybrid</td>\n",
       "      <td>HEV</td>\n",
       "      <td>2015</td>\n",
       "      <td>16.0</td>\n",
       "    </tr>\n",
       "  </tbody>\n",
       "</table>\n",
       "</div>"
      ],
      "text/plain": [
       "          Make           Model Type  Year  Sales\n",
       "12  Volkswagen  Touareg Hybrid  HEV  2011  221.0\n",
       "13  Volkswagen  Touareg Hybrid  HEV  2012  250.0\n",
       "14  Volkswagen  Touareg Hybrid  HEV  2013  118.0\n",
       "15  Volkswagen  Touareg Hybrid  HEV  2014   30.0\n",
       "16  Volkswagen  Touareg Hybrid  HEV  2015   16.0"
      ]
     },
     "execution_count": 82,
     "metadata": {},
     "output_type": "execute_result"
    }
   ],
   "source": [
    "hdf.head()"
   ]
  },
  {
   "cell_type": "code",
   "execution_count": 83,
   "metadata": {},
   "outputs": [
    {
     "data": {
      "text/plain": [
       "array(['Volkswagen', 'Toyota', 'Subaru', 'Saturn', 'Porsche', 'Nissan',\n",
       "       'Mercury', 'Mercedes', 'Mazda', 'Lincoln', 'Lexus', 'Kia',\n",
       "       'Infiniti', 'Hyundai', 'Honda', 'GMC', 'Ford', 'Dodge', 'Chrysler',\n",
       "       'Chevrolet', 'Cadillac', 'Buick', 'BMW', 'Audi', 'Acura', 'Acrua'],\n",
       "      dtype=object)"
      ]
     },
     "execution_count": 83,
     "metadata": {},
     "output_type": "execute_result"
    }
   ],
   "source": [
    "# Check for misspellings in 'Make'. We find that Acura is misspelled as Acrua\n",
    "hdf.Make.unique()"
   ]
  },
  {
   "cell_type": "code",
   "execution_count": 84,
   "metadata": {},
   "outputs": [
    {
     "data": {
      "text/plain": [
       "array(['Chevrolet', 'Mitsubishi', 'Nissan', 'Smart', 'BMW', 'Ford',\n",
       "       'Honda', 'Tesla', 'Toyota', 'Cadillac', 'Fiat', 'Porsche', 'Kia',\n",
       "       'Mercedes', 'VW', 'Volvo', 'Audi', 'Hyundai', 'Chrysler', 'Mini'],\n",
       "      dtype=object)"
      ]
     },
     "execution_count": 84,
     "metadata": {},
     "output_type": "execute_result"
    }
   ],
   "source": [
    "# Check for misspellings in 'Make'. To ensure consistency, we will rename VW to Volkswagen to reflect the HEV df.\n",
    "pdf.Make.unique()"
   ]
  },
  {
   "cell_type": "code",
   "execution_count": 85,
   "metadata": {},
   "outputs": [],
   "source": [
    "# Implementing the changes mentioned above\n",
    "hdf.Make = hdf.Make.replace({'Acrua':'Acura'})\n",
    "pdf.Make = pdf.Make.replace({'VW':'Volkswagen'})"
   ]
  },
  {
   "cell_type": "code",
   "execution_count": 86,
   "metadata": {},
   "outputs": [],
   "source": [
    "# Connecting to Postgres so we can create a SQL database in which to store both dataframes\n",
    "rds_connection_string = \"postgres:postgres@localhost:5432/ETL-EV_proj1\"\n",
    "engine = create_engine(f'postgresql://{rds_connection_string}')"
   ]
  },
  {
   "cell_type": "code",
   "execution_count": 87,
   "metadata": {},
   "outputs": [
    {
     "data": {
      "text/plain": [
       "[]"
      ]
     },
     "execution_count": 87,
     "metadata": {},
     "output_type": "execute_result"
    }
   ],
   "source": [
    "engine.table_names()"
   ]
  },
  {
   "cell_type": "code",
   "execution_count": null,
   "metadata": {},
   "outputs": [],
   "source": []
  }
 ],
 "metadata": {
  "kernelspec": {
   "display_name": "Python [conda env:PythonData] *",
   "language": "python",
   "name": "conda-env-PythonData-py"
  },
  "language_info": {
   "codemirror_mode": {
    "name": "ipython",
    "version": 3
   },
   "file_extension": ".py",
   "mimetype": "text/x-python",
   "name": "python",
   "nbconvert_exporter": "python",
   "pygments_lexer": "ipython3",
   "version": "3.6.8"
  }
 },
 "nbformat": 4,
 "nbformat_minor": 2
}
